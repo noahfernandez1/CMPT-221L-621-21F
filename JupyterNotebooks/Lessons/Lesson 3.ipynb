{
 "cells": [
  {
   "cell_type": "markdown",
   "source": [
    "# Software Development 2\n",
    "Topics for today will include:\n",
    "- Teams due tonight! Slack me your teams during class! I'll announce openings at the break!\n",
    "- Emmet Abbreviations\n",
    "- Lab Review\n",
    "- Looking at the CSS Box Model\n",
    "- Developer Mode/Inspect Element\n",
    "- Playing with what we learned\n",
    "- Let's talk about JavaScript\n",
    "\n",
    "If you'd like to take notes in this Jupyter Notebook, I **HIGHLY RECOMMEND** you make a duplicate, add the word student or something to the name so you don't get a merge conflict!"
   ],
   "metadata": {}
  },
  {
   "cell_type": "markdown",
   "source": [
    "## Project Groups!\n",
    "If you haven't decided on who you'd like to be in a group yet you'll be assigned to a group this week. If you have a partial group or preferred members Slack me as a group by the end of class. Next week I want groups to present their initial ideas. I'd also like for you to have at least 5, 2 week iterations. You'll be rotating roles as well!\n",
    "\n",
    "Also a great place to have some of the project discussions that will be coming about is in the class slack!\n",
    "\n",
    "| Confirmed Groups |\n",
    "|------------------|\n",
    "| Austin Frank, Trent Green, Joe Bartholdi, Connor Johnson, Alex Hanys |\n",
    "| Noah Fernandez, Sam Viola, Easton Eberwein, Emile Khoury, Rocco Mangone |\n",
    "| Genevieve Anderson ,Angie Chirichella, Gaby Nina, and Kylie Wasserman |"
   ],
   "metadata": {}
  },
  {
   "cell_type": "markdown",
   "source": [
    "## Emmet Abbreviations\n",
    "One of my favorite parts about being a developer is finding ways to make my life easier. Now this may take some work ahead of time and some practice but typically in the long term it turns out to be very worth it over time. \n",
    "\n",
    "I've mentioned the topic in one of our classes before but I grazed over it. Emmet Abbreviations are a tool that helps with HTML development. It make it so that writing tags is a little less painful. Having to write out tags manually can be time consuming and a little annoying to do. Especially when it comes to adding attributes to the tags.\n",
    "\n",
    "[Emmet Abbreviations Cheat Sheet](https://docs.emmet.io/cheat-sheet/)"
   ],
   "metadata": {}
  },
  {
   "cell_type": "markdown",
   "source": [
    "## SonarLint\n",
    "Before we move on I want to talk about style a little bit! \n",
    "\n",
    "Style is oh SO important when it comes to keeping your code nice and tidy. So I have a style guide for you with some rules to keep you in line!\n",
    "\n",
    "[Google Style Guide!](https://google.github.io/styleguide/jsguide.html)\n",
    "\n",
    "If you're like me at all and are either semi illiterate or just lazy there's an easier way to abide by style standards without having to memorize a books worth of stuff.\n",
    "\n",
    "[SonarLint](https://www.sonarlint.org)\n",
    "\n",
    "[VS Marketplace Link](https://marketplace.visualstudio.com/items?itemName=SonarSource.sonarlint-vscode)"
   ],
   "metadata": {}
  },
  {
   "cell_type": "markdown",
   "source": [
    "## Lab Review"
   ],
   "metadata": {}
  },
  {
   "cell_type": "markdown",
   "source": [
    "## Looking at the CSS Box Model\n",
    "In CSS there is this concept of a box model and it's important to understand. Based on the conversation that we had last class when we talked about Bootstrap, being able to understand what your code is gonna look like while writing it is extremely important especially for something so visually based!\n",
    "\n",
    "That being said we should talk about and play around with the concept of the box model.\n",
    "\n",
    "In the model we have 4 things that we need to worry about. \n",
    "\n",
    "### **Content, Padding, Border, and Margin**\n",
    "\n",
    "![Box Model](https://blog.hubspot.com/hs-fs/hubfs/Google%20Drive%20Integration/Update%20css%20margin%20vs%20padding-2.png?width=650&name=Update%20css%20margin%20vs%20padding-2.png)\n",
    "\n",
    "Looking at each of these pieces individually hopefully we can come to understand what they all do and are responsible for.\n",
    "\n",
    "First let's look at the content, this is probably the easiest to interpret. The content is the tag directly. Whichever tag that you're using or styling for is your content. Whenever you move this object everything else moves (Padding, Margin, and Border). Outside of this our content is mostly controlled from the HTML side and we don't do much else from the CSS side (at a basic level at least). Content usually has a height and a width associated with it. This way we can have a way of altering the size of our content! Our height and width can be altered in many ways. For now we'll stick to percentage and pixel.\n",
    "\n",
    "Next up we can talk about the padding this is similar to having shoulder pads in a suit or on a football player where it make the content look bigger. We're adding fluff to the size of the content. Padding is transparent and doesn't actually show, you just can kinda determine it's there because by default there is none.\n",
    "\n",
    "After padding comes the border you can think of borders very literally like how they would appear on a map. The border adds a line around your content AND your padding. This is important to note because when you may need some extra space in between your content and your border you can do so through the padding, not by attempting to move the border around.\n",
    "\n",
    "Finally and probably my favorite and most used is margin. Margin is pretty much your bubble. It's your personal space. It's what we use to social distance. Margin is what you use to say I don't care what's near me I need this amount of space between us. Margin is also transparent. In the context of determining if it's actually there or not it's a little more difficult to do if there's no border which leads us to out next topic!\n"
   ],
   "metadata": {}
  },
  {
   "cell_type": "markdown",
   "source": [
    "## Playing with what we learned!"
   ],
   "metadata": {}
  },
  {
   "cell_type": "markdown",
   "source": [
    "## Developer Mode/Inspect Element\n",
    "\n",
    "In all (I believe) web browsers there's a mode for developers where you have the ability to inspect a webpage and go and see the content of that page. Some browsers require you to enable developer mode in the settings of the web browser and others don't but they should all have an inspect element. \n",
    "\n",
    "If you right click on a page you should see the option!\n",
    "\n",
    "![InspectChrome](../../Assets/Images/InspectChrome.png)\n",
    "![InspectFirefox](../../Assets/Images/InspectFirefox.png)\n",
    "![InspectSafari](../../Assets/Images/InspectSafari.png)\n",
    "\n",
    "This is an invaluable tool as your learning web development because it can give some clues to what another developer might be doing with their webpage or figuring out what's wrong with yours!\n",
    "\n"
   ],
   "metadata": {}
  },
  {
   "cell_type": "markdown",
   "source": [
    "## Let's talk about Javascript\n",
    "\n",
    "To progress with our web development skills it's time to start talking about JavaScript. So before we start we need to remember where we are working. For right now we're going to speak in general but later on when we start using JavaScript in the backend some things may be done a little differently than if we were using JavaScript in the front end.\n",
    "\n",
    "To start lets look at all of the things that we know about already. \n",
    "\n",
    "### Console Log (Print Statement)\n",
    "So my preferred thing to learn first in any language is the print statement! This is my main debugging tool so it's the first thing I usually wanna know!"
   ],
   "metadata": {}
  },
  {
   "cell_type": "code",
   "execution_count": 8,
   "source": [
    "console.log(\"Hello Everyone!\");"
   ],
   "outputs": [
    {
     "output_type": "stream",
     "name": "stdout",
     "text": [
      "Hello Everyone!\n"
     ]
    }
   ],
   "metadata": {}
  },
  {
   "cell_type": "markdown",
   "source": [
    "### Data Types!\n",
    "Similar to any other language we should start off talking about the data types available to us. We have a decent amount in JavaScript and they're a little different than some we may have seen in the past in some ways.\n",
    "\n",
    "#### Null\n",
    "Null we should be familiar with. We have an object that we purposely give no value. We use null in instances where we're making an object and maybe part of it aren't declared but you still need it. Maybe it didn't make it all the way through it's creation and you ended up with a half made object. There are many instances where you can end up with Null."
   ],
   "metadata": {}
  },
  {
   "cell_type": "code",
   "execution_count": 9,
   "source": [
    "null"
   ],
   "outputs": [
    {
     "output_type": "execute_result",
     "data": {
      "text/plain": [
       "null"
      ]
     },
     "metadata": {},
     "execution_count": 9
    }
   ],
   "metadata": {}
  },
  {
   "cell_type": "code",
   "execution_count": 10,
   "source": [
    "console.log(null);"
   ],
   "outputs": [
    {
     "output_type": "stream",
     "name": "stdout",
     "text": [
      "null\n"
     ]
    }
   ],
   "metadata": {}
  },
  {
   "cell_type": "markdown",
   "source": [
    "#### Undefined\n",
    "Undefined is probably a new thing for us. Undefined is similar to null but takes things a little further. They're pretty much varying degrees of nothingness. With undefined nothing is there at all. The thing that you're searching for the value of is there. It's been declared, but it hasn't been defined yet. This is a little easier to think about in the context of variables. You can declare and define variables in separate steps. Most people don't, but you can. So what happens in the scenario that you would get back undefined."
   ],
   "metadata": {}
  },
  {
   "cell_type": "code",
   "execution_count": 11,
   "source": [
    "undefined"
   ],
   "outputs": [],
   "metadata": {}
  },
  {
   "cell_type": "code",
   "execution_count": 12,
   "source": [
    "console.log(undefined);"
   ],
   "outputs": [
    {
     "output_type": "stream",
     "name": "stdout",
     "text": [
      "undefined\n"
     ]
    }
   ],
   "metadata": {}
  },
  {
   "cell_type": "markdown",
   "source": [
    "![Null vs Undefined](https://miro.medium.com/max/880/0*Rme3K8rdqcOHugd5.jpg)\n",
    "\n",
    "![Zero vs Null vs Undefined](https://while.dev/img/0-null-undefined.png)"
   ],
   "metadata": {}
  },
  {
   "cell_type": "markdown",
   "source": [
    "#### Booleans\n",
    "Boolean are the same here as they are in most other language excluding the concept of truthy and falsy. \n",
    "\n",
    "_**Does anyone know what truthy and falsy are or wanna give a guess?**_"
   ],
   "metadata": {}
  },
  {
   "cell_type": "code",
   "execution_count": 13,
   "source": [
    "true"
   ],
   "outputs": [
    {
     "output_type": "execute_result",
     "data": {
      "text/plain": [
       "true"
      ]
     },
     "metadata": {},
     "execution_count": 13
    }
   ],
   "metadata": {}
  },
  {
   "cell_type": "code",
   "execution_count": 14,
   "source": [
    "console.log(true);"
   ],
   "outputs": [
    {
     "output_type": "stream",
     "name": "stdout",
     "text": [
      "true\n"
     ]
    }
   ],
   "metadata": {}
  },
  {
   "cell_type": "code",
   "execution_count": 15,
   "source": [
    "false"
   ],
   "outputs": [
    {
     "output_type": "execute_result",
     "data": {
      "text/plain": [
       "false"
      ]
     },
     "metadata": {},
     "execution_count": 15
    }
   ],
   "metadata": {}
  },
  {
   "cell_type": "code",
   "execution_count": 16,
   "source": [
    "console.log(false);"
   ],
   "outputs": [
    {
     "output_type": "stream",
     "name": "stdout",
     "text": [
      "false\n"
     ]
    }
   ],
   "metadata": {}
  },
  {
   "cell_type": "markdown",
   "source": [
    "#### Number\n",
    "Numbers in Javascript are very general. This can be helpful in some instances and painful in others. For instance there's no distinction between integers and floats."
   ],
   "metadata": {}
  },
  {
   "cell_type": "code",
   "execution_count": 17,
   "source": [
    "42"
   ],
   "outputs": [
    {
     "output_type": "execute_result",
     "data": {
      "text/plain": [
       "42"
      ]
     },
     "metadata": {},
     "execution_count": 17
    }
   ],
   "metadata": {}
  },
  {
   "cell_type": "code",
   "execution_count": 18,
   "source": [
    "console.log(42 + 58);"
   ],
   "outputs": [
    {
     "output_type": "stream",
     "name": "stdout",
     "text": [
      "100\n"
     ]
    }
   ],
   "metadata": {}
  },
  {
   "cell_type": "code",
   "execution_count": 19,
   "source": [
    "console.log(2.10 + 59);"
   ],
   "outputs": [
    {
     "output_type": "stream",
     "name": "stdout",
     "text": [
      "61.1\n"
     ]
    }
   ],
   "metadata": {}
  },
  {
   "cell_type": "code",
   "execution_count": 20,
   "source": [
    "console.log(2**2);"
   ],
   "outputs": [
    {
     "output_type": "stream",
     "name": "stdout",
     "text": [
      "4\n"
     ]
    }
   ],
   "metadata": {}
  },
  {
   "cell_type": "markdown",
   "source": [
    "#### String\n",
    "Strings in Javascript are relatively the same in JavaScript as they are in other languages. You can define them with single or double quotes."
   ],
   "metadata": {}
  },
  {
   "cell_type": "code",
   "execution_count": null,
   "source": [
    "'Hello there!'"
   ],
   "outputs": [],
   "metadata": {}
  },
  {
   "cell_type": "code",
   "execution_count": null,
   "source": [
    "\"This is a string!\""
   ],
   "outputs": [],
   "metadata": {}
  },
  {
   "cell_type": "code",
   "execution_count": null,
   "source": [
    "\"\"\"\n",
    "Does this work\n",
    "\"\"\""
   ],
   "outputs": [],
   "metadata": {}
  },
  {
   "cell_type": "markdown",
   "source": [
    "#### Arrays\n",
    "Arrays or lists as some may choose to call them are pretty typical as well!"
   ],
   "metadata": {}
  },
  {
   "cell_type": "code",
   "execution_count": 22,
   "source": [
    "[1, 2, 3, 4, 5, 6, 7, 8, 9, 10 ,11]"
   ],
   "outputs": [
    {
     "output_type": "execute_result",
     "data": {
      "text/plain": [
       "[ 1, 2, 3, 4, 5, 6, 7, 8, 9, 10, 11 ]"
      ]
     },
     "metadata": {},
     "execution_count": 22
    }
   ],
   "metadata": {}
  },
  {
   "cell_type": "code",
   "execution_count": 23,
   "source": [
    "[\"Hi\", \"my\", \"name\", \"is\"]"
   ],
   "outputs": [
    {
     "output_type": "execute_result",
     "data": {
      "text/plain": [
       "[ 'Hi', 'my', 'name', 'is' ]"
      ]
     },
     "metadata": {},
     "execution_count": 23
    }
   ],
   "metadata": {}
  },
  {
   "cell_type": "code",
   "execution_count": 24,
   "source": [
    "[\"We\", 23, \"can\", false, \"mix\", 1.2, \"types\"]"
   ],
   "outputs": [
    {
     "output_type": "execute_result",
     "data": {
      "text/plain": [
       "[ 'We', 23, 'can', false, 'mix', 1.2, 'types' ]"
      ]
     },
     "metadata": {},
     "execution_count": 24
    }
   ],
   "metadata": {}
  },
  {
   "cell_type": "markdown",
   "source": [
    "#### Objects\n",
    "After taking SD1 hopefully you know what objects are! Just in case this is a type centered around grouping values under a common theme."
   ],
   "metadata": {}
  },
  {
   "cell_type": "code",
   "execution_count": 5,
   "source": [
    "// Person\n",
    "let professorKippins = {\n",
    "    firstName: \"Aaron\",\n",
    "    lastName:  \"Kippins\",\n",
    "    nicknames: [\"Kipp\", \"Kipps\", \"Kippy\", \"Kipperly\"],\n",
    "    age:       27\n",
    "}"
   ],
   "outputs": [],
   "metadata": {}
  },
  {
   "cell_type": "code",
   "execution_count": 25,
   "source": [
    "console.log(professorKippins);"
   ],
   "outputs": [
    {
     "output_type": "stream",
     "name": "stdout",
     "text": [
      "{ firstName: 'Aaron',\n",
      "  lastName: 'Kippins',\n",
      "  nicknames: [ 'Kipp', 'Kipps', 'Kippy', 'Kipperly' ],\n",
      "  age: 27 }\n"
     ]
    }
   ],
   "metadata": {}
  },
  {
   "cell_type": "markdown",
   "source": [
    "#### TypeOf\n",
    "Type of pretty much lets us ask what the type of something is in Javascript."
   ],
   "metadata": {}
  },
  {
   "cell_type": "code",
   "execution_count": 26,
   "source": [
    "typeof \"What am i? What is my purpose?\";"
   ],
   "outputs": [
    {
     "output_type": "execute_result",
     "data": {
      "text/plain": [
       "'string'"
      ]
     },
     "metadata": {},
     "execution_count": 26
    }
   ],
   "metadata": {}
  },
  {
   "cell_type": "code",
   "execution_count": 27,
   "source": [
    "typeof 10;"
   ],
   "outputs": [
    {
     "output_type": "execute_result",
     "data": {
      "text/plain": [
       "'number'"
      ]
     },
     "metadata": {},
     "execution_count": 27
    }
   ],
   "metadata": {}
  },
  {
   "cell_type": "code",
   "execution_count": 28,
   "source": [
    "typeof professorKippins;"
   ],
   "outputs": [
    {
     "output_type": "execute_result",
     "data": {
      "text/plain": [
       "'object'"
      ]
     },
     "metadata": {},
     "execution_count": 28
    }
   ],
   "metadata": {}
  },
  {
   "cell_type": "markdown",
   "source": [
    "### Variables\n",
    "After our data types my preferred progression are to find the variables next. The thing is javascript has evolved over time and has adopted varying levels of declaration. We're going to go from lenient to strict.\n",
    "\n",
    "#### Var\n",
    "`var` is pretty much your basic variable. Nothing really super special here. You use it to store values. It can be redefined. All that good stuff.\n",
    "\n",
    "_**There are some potential issues with this though! Can we think of any?**_"
   ],
   "metadata": {}
  },
  {
   "cell_type": "code",
   "execution_count": null,
   "source": [
    "var myName = \"Kippins\";\n",
    "console.log(myName);\n",
    "\n",
    "myName = \"Aaron\";\n",
    "console.log(myName);\n",
    "\n",
    "var myName = \"Kipp\";\n",
    "console.log(myName);"
   ],
   "outputs": [],
   "metadata": {}
  },
  {
   "cell_type": "markdown",
   "source": [
    "#### Let\n",
    "`let` is a little different. `let` is scope bound and also will not `let` you redeclare something that has already been declared in the same scope. This can be a little confusing if you don't understand scope very well BUT if you do, it's actually pretty useful."
   ],
   "metadata": {}
  },
  {
   "cell_type": "code",
   "execution_count": 1,
   "source": [
    "let myName = \"Kippins\";\n",
    "console.log(myName);\n",
    "\n",
    "myName = \"Aaron\";\n",
    "console.log(myName);\n",
    "\n",
    "function hi() {\n",
    "    let myName = \"Kipp\";\n",
    "    console.log(myName);\n",
    "}\n",
    "\n",
    "hi();\n"
   ],
   "outputs": [
    {
     "output_type": "stream",
     "name": "stdout",
     "text": [
      "Kippins\n",
      "Aaron\n",
      "Kipp\n"
     ]
    }
   ],
   "metadata": {}
  },
  {
   "cell_type": "markdown",
   "source": [
    "#### Const\n",
    "`const` is the most strict of them all. `const` basically lets you declare a constant and if you declare something as constant, then you probably don't want it to change. So it won't... becauuuuusssseeee you can't."
   ],
   "metadata": {}
  },
  {
   "cell_type": "code",
   "execution_count": 1,
   "source": [
    "const myNameConst = \"Kippins\";\n",
    "console.log(myNameConst);\n",
    "\n",
    "myNameConst = \"Aaron\";\n",
    "console.log(myNameConst);\n",
    "\n",
    "const myNameConst = \"Kipp\";\n",
    "console.log(myNameConst);"
   ],
   "outputs": [
    {
     "output_type": "error",
     "ename": "SyntaxError",
     "evalue": "Identifier 'myNameConst' has already been declared",
     "traceback": [
      "evalmachine.<anonymous>:7",
      "const myNameConst = \"Kipp\";",
      "      ^",
      "",
      "SyntaxError: Identifier 'myNameConst' has already been declared",
      "    at new Script (vm.js:83:7)",
      "    at createScript (vm.js:277:10)",
      "    at Object.runInThisContext (vm.js:329:10)",
      "    at run ([eval]:1054:15)",
      "    at onRunRequest ([eval]:888:18)",
      "    at onMessage ([eval]:848:13)",
      "    at process.emit (events.js:198:13)",
      "    at emit (internal/child_process.js:832:12)",
      "    at process._tickCallback (internal/process/next_tick.js:63:19)"
     ]
    }
   ],
   "metadata": {}
  },
  {
   "cell_type": "markdown",
   "source": [
    "### If/Else If/Else\n",
    "Finally we can actually start talking about logic. In the case of our `if`, `else if`, and `else` statements they're pretty regular! "
   ],
   "metadata": {}
  },
  {
   "cell_type": "code",
   "execution_count": 2,
   "source": [
    "if (10 == 10) {\n",
    "    console.log(\"Wooo!\");\n",
    "}"
   ],
   "outputs": [
    {
     "output_type": "stream",
     "name": "stdout",
     "text": [
      "Wooo!\n"
     ]
    }
   ],
   "metadata": {}
  },
  {
   "cell_type": "code",
   "execution_count": 3,
   "source": [
    "if (10 == '10') {\n",
    "    console.log(\"Wooo!\");\n",
    "}"
   ],
   "outputs": [
    {
     "output_type": "stream",
     "name": "stdout",
     "text": [
      "Wooo!\n"
     ]
    }
   ],
   "metadata": {}
  },
  {
   "cell_type": "code",
   "execution_count": 4,
   "source": [
    "if (10 === '10') {\n",
    "    console.log(\"Wooo!\");\n",
    "}"
   ],
   "outputs": [],
   "metadata": {}
  },
  {
   "cell_type": "code",
   "execution_count": 5,
   "source": [
    "if (\"Yes\" == \"No\") {\n",
    "    console.log(\"You could've just told me you didn't wanna go instead of showing up in a bear costume\");\n",
    "} else if (\"Yes\" == \"Yes\") {\n",
    "    console.log(\"The picnic was so nice!\");\n",
    "}"
   ],
   "outputs": [
    {
     "output_type": "stream",
     "name": "stdout",
     "text": [
      "The picnic was so nice!\n"
     ]
    }
   ],
   "metadata": {}
  },
  {
   "cell_type": "code",
   "execution_count": 6,
   "source": [
    "let golfing = false;\n",
    "let camping = false;\n",
    "\n",
    "if (golfing) {\n",
    "    console.log(\"I'm so excited to golf for 4+ hours!\");\n",
    "} else if (camping) {\n",
    "    console.log(\"Being in the great outdoors with no electricity for several days? Sign me up!\");\n",
    "} else {\n",
    "    console.log(\"Wanna go for a picnic? No I wasn't planning on bring wine... Why?\");\n",
    "}"
   ],
   "outputs": [
    {
     "output_type": "stream",
     "name": "stdout",
     "text": [
      "Wanna go for a picnic? No I wasn't planning on bring wine... Why?\n"
     ]
    }
   ],
   "metadata": {}
  },
  {
   "cell_type": "markdown",
   "source": [
    "### Switch Case\n",
    "There's nothing too special about switch case either. Things are fairly the same."
   ],
   "metadata": {}
  },
  {
   "cell_type": "code",
   "execution_count": 1,
   "source": [
    "var starter = \"Squirtle\";\n",
    "switch (starter) {\n",
    "    case \"Bulbasaur\":\n",
    "        console.log(\"Bulbasaur is pretty cool but grass types sucked in the early gens.\");\n",
    "        break;\n",
    "    case \"Squirtle\":\n",
    "        console.log(\"Omg Squirtle was my childhood fave starter too!\");\n",
    "        break;\n",
    "    case \"Charmander\":\n",
    "        console.log(\"Charmander is dope, it's just a little tough to get started though.\");\n",
    "        break;\n",
    "\n",
    "    default:\n",
    "        console.log(\"What was it like to have a life as a child XD\");\n",
    "        break;\n",
    "}"
   ],
   "outputs": [
    {
     "output_type": "stream",
     "name": "stdout",
     "text": [
      "Omg Squirtle was my childhood fave starter too!\n",
      "Charmander is dope, it's just a little tough to get started though.\n",
      "What was it like to have a life as a child XD\n"
     ]
    }
   ],
   "metadata": {}
  },
  {
   "cell_type": "markdown",
   "source": [
    "### For Loops\n",
    "These mimic more Java style than Python but we do have access to a `for in` and `for of` loop!"
   ],
   "metadata": {}
  },
  {
   "cell_type": "code",
   "execution_count": 2,
   "source": [
    "for (var i = 0; i <= 10; i++) {\n",
    "    console.log(i);\n",
    "}"
   ],
   "outputs": [
    {
     "output_type": "stream",
     "name": "stdout",
     "text": [
      "0\n",
      "1\n",
      "2\n",
      "3\n",
      "4\n",
      "5\n",
      "6\n",
      "7\n",
      "8\n",
      "9\n",
      "10\n"
     ]
    }
   ],
   "metadata": {}
  },
  {
   "cell_type": "code",
   "execution_count": 3,
   "source": [
    "var todos = [\"Laundry\", \"Dishes\", \"Hair Cut\", \"Grocery Shopping\", \"Code a Little Bit\"];\n",
    "for (todo in todos) {\n",
    "    console.log(todo);\n",
    "}"
   ],
   "outputs": [
    {
     "output_type": "stream",
     "name": "stdout",
     "text": [
      "0\n",
      "1\n",
      "2\n",
      "3\n",
      "4\n"
     ]
    }
   ],
   "metadata": {}
  },
  {
   "cell_type": "markdown",
   "source": [
    "### While Loops\n",
    "While loops are similar to the for loops in that not much has changed syntactically from Java."
   ],
   "metadata": {}
  },
  {
   "cell_type": "code",
   "execution_count": 4,
   "source": [
    "var stack = [1,2,3,4,5,6,7,8,9,10]\n",
    "while (stack.length != 0) {\n",
    "    console.log(stack.pop());\n",
    "}"
   ],
   "outputs": [
    {
     "output_type": "stream",
     "name": "stdout",
     "text": [
      "10\n",
      "9\n",
      "8\n",
      "7\n",
      "6\n",
      "5\n",
      "4\n",
      "3\n",
      "2\n",
      "1\n"
     ]
    }
   ],
   "metadata": {}
  },
  {
   "cell_type": "markdown",
   "source": [
    "### Functions\n",
    "Our functions get declared a little differently but a function is still a function! Kinda..."
   ],
   "metadata": {}
  },
  {
   "cell_type": "code",
   "execution_count": 7,
   "source": [
    "function helloWorld(name) {\n",
    "    console.log(`Hello ${name}!`);\n",
    "}\n",
    "helloWorld(professorKippins.firstName)\n"
   ],
   "outputs": [
    {
     "output_type": "stream",
     "name": "stdout",
     "text": [
      "Hello Aaron!\n"
     ]
    }
   ],
   "metadata": {}
  }
 ],
 "metadata": {
  "orig_nbformat": 4,
  "language_info": {
   "name": "javascript",
   "version": "10.22.0",
   "mimetype": "application/javascript",
   "file_extension": ".js"
  },
  "kernelspec": {
   "name": "javascript",
   "display_name": "Javascript (Node.js)",
   "language": "javascript"
  }
 },
 "nbformat": 4,
 "nbformat_minor": 2
}