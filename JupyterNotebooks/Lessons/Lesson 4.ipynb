{
 "cells": [
  {
   "cell_type": "markdown",
   "source": [
    "# Software Development 2\n",
    "Topics for today will include:\n",
    "- Announcing Teams\n",
    "- Iteration 0\n",
    "- Defining and Choosing Agile Roles\n",
    "- Agile Meeting Types\n",
    "- Git Branching and Branch Management\n",
    "- Introducing Sass/Scss\n",
    "- Introducing Bootstrap, Foundation, & Materialize\n",
    "- The Grid System\n",
    "- Connecting Javascript\n",
    "- Building a page with Bootstrap\n",
    "- Bonus: REST and Swagger\n",
    "\n",
    "\n",
    "If you'd like to take notes in this Jupyter Notebook, I **HIGHLY RECOMMEND** you make a duplicate, add the word student or something to the name so you don't get a merge conflict!"
   ],
   "metadata": {}
  },
  {
   "cell_type": "markdown",
   "source": [
    "## Project Groups!\n",
    "If you haven't decided on who you'd like to be in a group yet you'll be assigned to a group this week. If you have a partial group or preferred members Slack me as a group by the end of class. Next week I want groups to present their initial ideas. I'd also like for you to have at least 5, 2 week iterations. You'll be rotating roles as well!\n",
    "\n",
    "Also a great place to have some of the project discussions that will be coming about is in the class slack!\n",
    "\n",
    "| Group/Company Name | Confirmed Groups |\n",
    "| ------------------ |------------------|\n",
    "| ------------------ | Austin Frank, Trent Green, Joe Bartholdi, Connor Johnson, Alex Hanys | 5\n",
    "| ------------------ | Noah Fernandez, Sam Viola, Easton Eberwein, Emile Khoury, Rocco Mangone | 10\n",
    "| ------------------ | Genevieve Anderson ,Angie Chirichella, Gaby Nina, Kylie Wasserman | 14\n",
    "| ------------------ | Daniel Bilotto, Emily Saviano, Kenzie Lippa, Fauziah Ibrahim | 18\n",
    "| ------------------ | Michael Laffan, Reed Percelay, Alphonse Vota, Henry Foreman | 22\n",
    "| ------------------ | Joshua Seligman, Nick Fiore, Jason Dos Santos, Nicholas Fisher | 26"
   ],
   "metadata": {}
  },
  {
   "cell_type": "markdown",
   "source": [
    "## Iteration 0\n",
    "This will have several components to it. The purpose of an Iteration 0 meeting is so that you can get acclimated with your team as well as get started on developing your application.\n",
    "\n",
    "[Design Doc](https://ilearn.marist.edu/access/content/group/7cd1aac3-f42d-4971-8637-c3891caae5ab/Semester%20Project/Semester%20Project%20HLD-2.pdf)\n",
    "\n",
    "We need to do at least the following:\n",
    "- Introduce the team\n",
    "- Define team meeting cadence, means of communication, and scheduled activities\n",
    "- Discuss means of documentation and development\n",
    "- Create Design Specifications\n",
    "- Create Initial Backlog\n",
    "- Assign Roles (These will change since we want every one to be in every role at some point)\n",
    "\n",
    "This all needs to be discussed and decided by your team so that you can get started. Getting this stuff out of the way early get's everyone on the same page. It also make it so that the only things that you should have to focus on during the iterations is the work itself."
   ],
   "metadata": {}
  },
  {
   "cell_type": "markdown",
   "source": [
    "## Defining and Choosing Agile Roles\n",
    "\n",
    "We've discussed this already but since we need to choose the roles for our first iteration lets talk about them again. We have 3 roles in our basic scheme. First we have our developers, second we have our Iteration Manager/Scrum Master, then finally we have our Product Owner.\n",
    "\n",
    "These three roles are very important because they tell folks what they should be primarily responsible for and focused on.\n",
    "\n",
    "Since we've already gone over these we'll hit the highlights:\n",
    "- **Developers**\n",
    "    - Includes all members of the team. Not just developers by traditional name.\n",
    "    - Responsible for taking thing off of the backlog and completing them.\n",
    "    - Should be attending stand ups and most significant team meetings.\n",
    "    - Should be communication with one another as well as the PO and IM when things go awry or when they think things should pivot.\n",
    "    - Should be able to self organize. This isn't a top down structure. You need to be able to manage yourself however optimal to benefit the team and get work done.\n",
    "</br>\n",
    "</br>\n",
    "- **Product Owner**\n",
    "    - Is responsible for managing the scrum/standup backlog\n",
    "    - Is paired with the IM/SM\n",
    "    - Is responsible for Release Management, we won't utilize this to the fullest extent but one of the core tenets of agile is constant and consistent delivery. Meaning delivering modularized and working pieces that work on their own. Typically it's up to the PO to say when things are good to go. For this class we'll mostly be communicating on status.\n",
    "    - Is responsible for Stakeholder/Customer Management, you're responsible for the communication between your team and the customer. You don't wanna leave your team out to dry by fully siding with the customer. You also don't want to make the customer feel unwanted by doing only what the team wants. _**BE SURE TO CONFER WITH YOUR TEAM BEFORE YOU PROMISE THE CUSTOMER ANYTHING!**_\n",
    "</br>\n",
    "</br>\n",
    "- **Iteration Manager/Scrum Master**\n",
    "    - Should be keeping the team all on the same page!\n",
    "    - Is paired with the PO\n",
    "    - Should be making sure the team has full transparency. You want to know what everyone on the team is doing so that you can be firing on all cylinders. Everyone should also know what everyone is doing!\n",
    "    - Should be focused on Empiricism. Basically, we tried it out, it didn't work, we're gonna do something different. You're focused on being adaptive and doing things that way.\n",
    "    - Is focused on promoting self organization. You want to enable the team to be able to get things done on their own. Remember this isn't top down, you have to communicate with one another to resolve issues and disputes.\n",
    "    - Should be promoting 5 core values to the team. Now as cheesy as this is gonna sound it make being a team a lot easier. Those values are courage, focus, commitment, respect, and openness. I'm not going to expect you to remember this but to more so embody it. Treat your teammates well and it becomes a lot easier to be on a team. "
   ],
   "metadata": {}
  },
  {
   "cell_type": "markdown",
   "source": [
    "## Agile Meeting Types\n",
    "\n",
    "So depending on the team you're on or the style of agile that you're in you may have more or less of these meetings but for the purpose of this semester we only have 4. 3 the way I recommend. That being said lets get into them and get our head wrapped around what we'll be doing.\n",
    "\n",
    "### Stand Ups\n",
    "Your stand ups are probably the easiest and most complex meeting at the same time. The reason that I personally believe this is because the standup is supposed to be super short. This means it's up to the team to be concise yet maximize communicativeness. Some teams implement an ELMO rule (Enough, Let's Move On), some choose to hash it out there and elongate the meeting (Typically not favored), Some forget to have the meeting at all/choose to have it weekly instead of just daily (More rare, and you have to do them lol).\n",
    "\n",
    "For the purpose of this class I'd say you should probably have at least 3 a week to start. Before you burn me at the stake I'm going to show you why this is something that becomes really easy if you're managed properly and if your IM is on point. \n",
    "\n",
    "In Slack you can set a reminder to yourself or your channel like this:\n",
    "`/remind me to “Post daily standup status! (ABC Format)” at 9AM every weekday`\n",
    "\n",
    "This will set a slack reminder to ping you every day to post your status. Now I also have `ABC Format` in there this is the other part that makes this easy. ABC Format stands for Accomplishments, Blockers, and Commitments. For example:\n",
    "\n",
    "```\n",
    "A: Lesson 4 Written\n",
    "B: ijavascript has been giving the students problems.\n",
    "C: Fixing ijavascript issue, writing Lesson 5, Happy Hour\n",
    "```\n",
    "\n",
    "This is a quick and simple solution to not having to have an actual meeting. People know whats going on with you and it takes 5 minutes out of your day.\n",
    "\n",
    "Missing stand ups is ok... as a whole. Missing stand ups as an individual can really peeve your team 👀\n",
    "\n",
    "### Retrospectives\n",
    "\n",
    "Retrospectives are super important because they make sure you're not doing something that's not working for you or the team for too long. I believe the typical rule of thumb is that your retrospective should be 15 minutes for every week in the iteration. We're not going to abide by this. I want you guys to have the retrospective but model it to being college students with other things to do. \n",
    "\n",
    "So what I think that we may do is have these in class for the first 2 and you can use a dumbed down version for the rest of the semester. I may make it a part of your lab so that way it's useful to your grade. \n",
    "\n",
    "Here's what my template looks like for work.\n",
    "![Iteration Retro Template](../../Assets/Images/IterationRetro.png)\n",
    "\n",
    "With this I poll my team and make sure that nothing is bothering them. If something is I try and find ways to improve it or fix it. I usually put it into a second board so I don't forget but that's not required. \n",
    "![Iteration Actionable Items Template](../../Assets/Images/IterationActionableItems.png)\n",
    "\n",
    "### Iteration Planning\n",
    "\n",
    "This is probably one of the easiest to understand. Implementing well on the other hand takes some practice. So we need to know what our goals are for the iteration at hand and this meeting is where we figure some of that out. What makes this tricky is that you're trying to make sure that you don't take on too much work but also are doing enough work that you can hit your deadline comfortably\n",
    "\n",
    "This can be paired with retrospectives but typically the iteration planning meeting is done in person so that you can hash things out then and there. Similar to the retrospectives my thought is to maybe do the first two in class and then the last 3 be part of the lab grades.\n",
    "\n",
    "There's no given time to hit for this one. It's mainly get it done kinda work.\n",
    "\n",
    "### Showcases\n",
    "Finally there are Showcases! Showcases are usually where you show off what you've done so far. Think of these as demos so that the invested stakeholders can see the direction that the project is going in! \n",
    "\n",
    "There's not much to it BUT it's SUPER important to impress the stakeholders. Make sure your demos are on point!"
   ],
   "metadata": {}
  },
  {
   "cell_type": "markdown",
   "source": [
    "## Git Branching and Branch Management\n",
    "[Github's article on GitHub Flow](https://guides.github.com/introduction/flow/)"
   ],
   "metadata": {}
  },
  {
   "cell_type": "markdown",
   "source": [
    "## Introducing Sass/Scss\n",
    "Talking about another thing that we've already seen/talked about that we're gonna go a little more in depth on. Sass or Syntactically Awesome Style Sheets is a tool that makes dealing with CSS a whole lot easier. With the ability to add some elements of programming into our css like variables, nesting, partials, modules, mixins, inheritance, and math!\n",
    "\n",
    "[Sass Site](https://sass-lang.com)\n",
    "\n",
    "Feel free to use sass in your project, this is something that you'll have to agree on as a team!"
   ],
   "metadata": {}
  },
  {
   "cell_type": "markdown",
   "source": [
    "## Introducing Bootstrap, Foundation, & Materialize\n",
    "\n",
    "Another that we've touched on but will talk more about now are some front-end frameworks. Today we'll look at Bootstrap, Foundation, and Materialize. Now these all have some things in common but they also have a lot of differences. Luckily for us the styles and approaches are what's drastically different, and not the means of implementation. \n",
    "\n",
    "We're going to take a look at Bootstrap, Foundation, and Materialize and look into getting them into your projects. Looking at using CDN's vs downloading the packages yourself.\n",
    "\n",
    "[Bootstrap Site](https://getbootstrap.com)\n",
    "\n",
    "[Foundation Site](https://get.foundation)\n",
    "\n",
    "[Materialize Site](https://materializecss.com)\n",
    "\n",
    "Feel free to use these frameworks in your project, this is something that you'll have to agree on as a team!"
   ],
   "metadata": {}
  },
  {
   "cell_type": "markdown",
   "source": [
    "## The Grid System\n",
    "\n",
    "Now one of the biggest things that the three frameworks that I'm showing you have in common is the Grid System. This isn't the most complex thing to understand but in modern web development its very important to understand. The Grid System makes it so that we can write one webpage that is responsible for both our mobile and desktop view. \n",
    "\n",
    "Typically these grids are 12 equally sized columns in size. There are some systems that use more but the default is typically 12. \n",
    "\n"
   ],
   "metadata": {}
  },
  {
   "cell_type": "markdown",
   "source": [
    "## Connecting Javascript (in the front end) and Talking about the DOM"
   ],
   "metadata": {}
  }
 ],
 "metadata": {
  "orig_nbformat": 4,
  "language_info": {
   "name": "javascript"
  },
  "kernelspec": {
   "name": "javascript",
   "display_name": "Javascript (Node.js)",
   "language": "javascript"
  }
 },
 "nbformat": 4,
 "nbformat_minor": 2
}