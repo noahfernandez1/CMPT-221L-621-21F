{
 "cells": [
  {
   "cell_type": "markdown",
   "source": [
    "# Lab Three\n",
    "---\n",
    "\n",
    "Ok for this lab we're going to reiterate a lot of the things that we went over in class.\n",
    "\n",
    "Our Goals are:\n",
    "- Understanding Variable Types\n",
    "- Defining Variables\n",
    "- Using Conditionals\n",
    "- Using Loops\n",
    "- Creating Objects\n",
    "- Writing a function\n"
   ],
   "metadata": {}
  },
  {
   "cell_type": "markdown",
   "source": [
    "## What's the difference between Null and undefined?"
   ],
   "metadata": {}
  },
  {
   "cell_type": "markdown",
   "source": [
    "Null means that a there is a space for information, but nothing filling it in. We have an object but give it no value on purpose.  Undefined is different because it means there is no information at all, it doesn't exist whatsoever. It's been declared, but no defined as anything."
   ],
   "metadata": {}
  },
  {
   "cell_type": "markdown",
   "source": [
    "## List the 3 Variable Types and Use Them!"
   ],
   "metadata": {}
  },
  {
   "cell_type": "code",
   "execution_count": null,
   "source": [
    "var firstName = \"Noah\";\n",
    "\n",
    "let firstName = \"Noah1\";\n",
    "\n",
    "const firstNameConst = \"Noah2\";"
   ],
   "outputs": [],
   "metadata": {}
  },
  {
   "cell_type": "markdown",
   "source": [
    "The three variable types are Var, Let, and Const"
   ],
   "metadata": {}
  },
  {
   "cell_type": "markdown",
   "source": [
    "## Use an If/Else If/Else Statement and a Switch Case statement"
   ],
   "metadata": {}
  },
  {
   "cell_type": "code",
   "execution_count": null,
   "source": [
    "var food = \"Corn Dog\";\n",
    "switch (food) {\n",
    "    case \"Burger\":\n",
    "        console.log(\"$2.50\");\n",
    "        break;\n",
    "    case \"Corn Dog\":\n",
    "        console.log(\"$2.25\");\n",
    "        break;\n",
    "    case \"Onion Rings\":\n",
    "        console.log(\"$2.00\");\n",
    "        break;\n",
    "    case \"Coke\":\n",
    "        console.log(\"$1.00\");\n",
    "        break;\n",
    "\n",
    "    default:\n",
    "        console.log(\"Not on the menu.\");\n",
    "        break;\n",
    "}"
   ],
   "outputs": [],
   "metadata": {}
  },
  {
   "cell_type": "code",
   "execution_count": null,
   "source": [
    "if (\"Yes\" == \"No\") {\n",
    "    console.log(\"I guess I'll watch every season of the Simpsons by myself then...\");\n",
    "} else if (\"Yes\" == \"Yes\") {\n",
    "    console.log(\"Great, I hope you have the next 10 days free...\");\n",
    "}"
   ],
   "outputs": [],
   "metadata": {}
  },
  {
   "cell_type": "markdown",
   "source": [
    "## Use a For and a While Loop"
   ],
   "metadata": {}
  },
  {
   "cell_type": "code",
   "execution_count": null,
   "source": [
    "for (var i = 0; i <= 20; i++) {\n",
    "    console.log(i);\n",
    "}"
   ],
   "outputs": [],
   "metadata": {}
  },
  {
   "cell_type": "code",
   "execution_count": null,
   "source": [
    "var stack = [1,2,3,4,5,6,7,8,9,10,11,12,13,14,15,16,17,18,19,20]\n",
    "while (stack.length != 0) {\n",
    "    console.log(stack.pop());\n",
    "}"
   ],
   "outputs": [],
   "metadata": {}
  },
  {
   "cell_type": "markdown",
   "source": [
    "## Make an object!"
   ],
   "metadata": {}
  },
  {
   "cell_type": "code",
   "execution_count": null,
   "source": [
    "function cool() {\n",
    "    let firstName = \"Kipp\";\n",
    "    console.log(firstName);\n",
    "}\n",
    "\n",
    "cool();\n"
   ],
   "outputs": [],
   "metadata": {}
  },
  {
   "cell_type": "markdown",
   "source": [
    "## Make a function, It can do anything!"
   ],
   "metadata": {}
  },
  {
   "cell_type": "markdown",
   "source": [
    "## Optional: Checkout HackerRank and try a problem in Javascript"
   ],
   "metadata": {}
  }
 ],
 "metadata": {
  "orig_nbformat": 4,
  "language_info": {
   "name": "javascript",
   "version": "10.22.0",
   "mimetype": "application/javascript",
   "file_extension": ".js"
  },
  "kernelspec": {
   "name": "javascript",
   "display_name": "Javascript (Node.js)",
   "language": "javascript"
  }
 },
 "nbformat": 4,
 "nbformat_minor": 2
}